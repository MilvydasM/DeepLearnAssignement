{
 "cells": [
  {
   "cell_type": "markdown",
   "metadata": {},
   "source": [
    "# Recurrent Neural Networks\n",
    "### Final Assignment\n",
    "<br/> by Milvydas Misevičius KT-8/2\n",
    "<br/> Email: milvydas.mi8891@go.kauko.lt"
   ]
  },
  {
   "cell_type": "markdown",
   "metadata": {},
   "source": [
    "#### Contents\n",
    "1. Importing data <br/>\n",
    "2. Rescaling the data <br/>\n",
    "3. Building the RNN <br/>\n",
    "4. Training and deployment of the RNN <br/>\n",
    "5. Results\n"
   ]
  },
  {
   "cell_type": "markdown",
   "metadata": {},
   "source": [
    "### Context\n",
    "Given a 10-year history of a selected US based company, predict the stock values for the month of August 2019 and compare the actual stock prices."
   ]
  },
  {
   "cell_type": "markdown",
   "metadata": {},
   "source": [
    "Using the terminal, download the stock price files from github, or upload them manually"
   ]
  },
  {
   "cell_type": "markdown",
   "metadata": {},
   "source": [
    " wget https://raw.githubusercontent.com/MilvydasM/DeepLearnAssignement/master/NKE_training_set.csv"
   ]
  },
  {
   "cell_type": "markdown",
   "metadata": {},
   "source": [
    " wget https://raw.githubusercontent.com/MilvydasM/DeepLearnAssignement/master/NKE_test_set.csv"
   ]
  },
  {
   "cell_type": "markdown",
   "metadata": {},
   "source": [
    "History step is 90 days\n"
   ]
  },
  {
   "cell_type": "code",
   "execution_count": 76,
   "metadata": {},
   "outputs": [],
   "source": [
    "#A few integrals for swapping easily:\n",
    "#History step:\n",
    "hs = 90\n",
    "#RNN settings:\n",
    "#Epoch count:\n",
    "eps = 100\n",
    "#Batch size:\n",
    "bsize = 32"
   ]
  },
  {
   "cell_type": "markdown",
   "metadata": {},
   "source": [
    "## Importing the libraries that will be used in the network"
   ]
  },
  {
   "cell_type": "code",
   "execution_count": 77,
   "metadata": {},
   "outputs": [],
   "source": [
    "#importing the libraries\n",
    "import numpy as np\n",
    "import matplotlib.pyplot as plt\n",
    "import pandas as pd"
   ]
  },
  {
   "cell_type": "markdown",
   "metadata": {},
   "source": [
    "Importing the dataset into code"
   ]
  },
  {
   "cell_type": "code",
   "execution_count": 78,
   "metadata": {},
   "outputs": [
    {
     "data": {
      "text/html": [
       "<div>\n",
       "<style scoped>\n",
       "    .dataframe tbody tr th:only-of-type {\n",
       "        vertical-align: middle;\n",
       "    }\n",
       "\n",
       "    .dataframe tbody tr th {\n",
       "        vertical-align: top;\n",
       "    }\n",
       "\n",
       "    .dataframe thead th {\n",
       "        text-align: right;\n",
       "    }\n",
       "</style>\n",
       "<table border=\"1\" class=\"dataframe\">\n",
       "  <thead>\n",
       "    <tr style=\"text-align: right;\">\n",
       "      <th></th>\n",
       "      <th>Date</th>\n",
       "      <th>Open</th>\n",
       "      <th>High</th>\n",
       "      <th>Low</th>\n",
       "      <th>Close</th>\n",
       "      <th>Adj Close</th>\n",
       "      <th>Volume</th>\n",
       "    </tr>\n",
       "  </thead>\n",
       "  <tbody>\n",
       "    <tr>\n",
       "      <td>0</td>\n",
       "      <td>2009-07-30</td>\n",
       "      <td>13.7325</td>\n",
       "      <td>14.1325</td>\n",
       "      <td>13.6450</td>\n",
       "      <td>14.0225</td>\n",
       "      <td>10.074034</td>\n",
       "      <td>20059600</td>\n",
       "    </tr>\n",
       "    <tr>\n",
       "      <td>1</td>\n",
       "      <td>2009-07-31</td>\n",
       "      <td>13.9175</td>\n",
       "      <td>14.4425</td>\n",
       "      <td>13.8900</td>\n",
       "      <td>14.1600</td>\n",
       "      <td>10.172816</td>\n",
       "      <td>21796800</td>\n",
       "    </tr>\n",
       "    <tr>\n",
       "      <td>2</td>\n",
       "      <td>2009-08-03</td>\n",
       "      <td>14.2450</td>\n",
       "      <td>14.2700</td>\n",
       "      <td>14.0600</td>\n",
       "      <td>14.1550</td>\n",
       "      <td>10.169227</td>\n",
       "      <td>13509600</td>\n",
       "    </tr>\n",
       "    <tr>\n",
       "      <td>3</td>\n",
       "      <td>2009-08-04</td>\n",
       "      <td>14.1150</td>\n",
       "      <td>14.3925</td>\n",
       "      <td>14.0375</td>\n",
       "      <td>14.3850</td>\n",
       "      <td>10.334464</td>\n",
       "      <td>14842800</td>\n",
       "    </tr>\n",
       "    <tr>\n",
       "      <td>4</td>\n",
       "      <td>2009-08-05</td>\n",
       "      <td>14.3850</td>\n",
       "      <td>14.5425</td>\n",
       "      <td>14.1825</td>\n",
       "      <td>14.2550</td>\n",
       "      <td>10.241068</td>\n",
       "      <td>16333200</td>\n",
       "    </tr>\n",
       "  </tbody>\n",
       "</table>\n",
       "</div>"
      ],
      "text/plain": [
       "         Date     Open     High      Low    Close  Adj Close    Volume\n",
       "0  2009-07-30  13.7325  14.1325  13.6450  14.0225  10.074034  20059600\n",
       "1  2009-07-31  13.9175  14.4425  13.8900  14.1600  10.172816  21796800\n",
       "2  2009-08-03  14.2450  14.2700  14.0600  14.1550  10.169227  13509600\n",
       "3  2009-08-04  14.1150  14.3925  14.0375  14.3850  10.334464  14842800\n",
       "4  2009-08-05  14.3850  14.5425  14.1825  14.2550  10.241068  16333200"
      ]
     },
     "execution_count": 78,
     "metadata": {},
     "output_type": "execute_result"
    }
   ],
   "source": [
    "#importing the dataset\n",
    "#loading the file contents \n",
    "dataset_train = pd.read_csv('NKE_training_set.csv')\n",
    "#Command to show the data\n",
    "dataset_train.head()"
   ]
  },
  {
   "cell_type": "code",
   "execution_count": 79,
   "metadata": {},
   "outputs": [
    {
     "data": {
      "text/plain": [
       "array([[13.7325  ],\n",
       "       [13.9175  ],\n",
       "       [14.245   ],\n",
       "       ...,\n",
       "       [87.440002],\n",
       "       [87.650002],\n",
       "       [86.82    ]])"
      ]
     },
     "execution_count": 79,
     "metadata": {},
     "output_type": "execute_result"
    }
   ],
   "source": [
    "#Creating a subtable of open values\n",
    "#.values makes this vector a numpy array\n",
    "training_set = dataset_train.iloc[:, 1:2].values \n",
    "#Displaying the table after separation\n",
    "training_set"
   ]
  },
  {
   "cell_type": "markdown",
   "metadata": {},
   "source": [
    "## Rescaling and normalizing the data\n",
    "Rescaling our data on a range from 0 to 1.\n",
    "This needs to be done on both data sets (training set and test set)"
   ]
  },
  {
   "cell_type": "code",
   "execution_count": 80,
   "metadata": {},
   "outputs": [],
   "source": [
    "#importing MinMaxScaler\n",
    "from sklearn.preprocessing import MinMaxScaler"
   ]
  },
  {
   "cell_type": "code",
   "execution_count": 81,
   "metadata": {},
   "outputs": [],
   "source": [
    "#creating a scaler instance to rescale all data ranging from 0.0 to 1.0 \n",
    "sc = MinMaxScaler(feature_range = (0, 1))"
   ]
  },
  {
   "cell_type": "code",
   "execution_count": 82,
   "metadata": {},
   "outputs": [],
   "source": [
    "#creating an actual training set of scaled values\n",
    "training_set_scaled = sc.fit_transform(training_set)"
   ]
  },
  {
   "cell_type": "code",
   "execution_count": 83,
   "metadata": {},
   "outputs": [
    {
     "data": {
      "text/plain": [
       "array([[0.00472891],\n",
       "       [0.00715904],\n",
       "       [0.01146104],\n",
       "       ...,\n",
       "       [0.97294016],\n",
       "       [0.97569869],\n",
       "       [0.9647959 ]])"
      ]
     },
     "execution_count": 83,
     "metadata": {},
     "output_type": "execute_result"
    }
   ],
   "source": [
    "#Displaying the training set\n",
    "training_set_scaled"
   ]
  },
  {
   "cell_type": "code",
   "execution_count": 84,
   "metadata": {},
   "outputs": [],
   "source": [
    "#Creating the data structures\n",
    "#Grabing the last 90 stock prices in the last 4 and a half months before today\n",
    "X_train = []\n",
    "#Y train stands for todays stock price\n",
    "Y_train = []"
   ]
  },
  {
   "cell_type": "code",
   "execution_count": 85,
   "metadata": {},
   "outputs": [
    {
     "data": {
      "text/plain": [
       "(2517, 1)"
      ]
     },
     "execution_count": 85,
     "metadata": {},
     "output_type": "execute_result"
    }
   ],
   "source": [
    "#Displaying the size of our training set\n",
    "training_set_scaled.shape"
   ]
  },
  {
   "cell_type": "code",
   "execution_count": 86,
   "metadata": {},
   "outputs": [],
   "source": [
    "#Starting from the set date (hs value) because this is the first value that enables us to return to the set value\n",
    "for i in range(hs, 2517): \n",
    "# 0 is the column ID, in this case the only column.    \n",
    "# Placing the last \"hs\" days in a row of X train\n",
    "    X_train.append(training_set_scaled[i-hs:i, 0]) \n",
    "    Y_train.append(training_set_scaled[i, 0])"
   ]
  },
  {
   "cell_type": "code",
   "execution_count": 87,
   "metadata": {},
   "outputs": [
    {
     "data": {
      "text/plain": [
       "array([[0.00472891, 0.00715904, 0.01146104, ..., 0.03625497, 0.03865227,\n",
       "        0.03871794],\n",
       "       [0.00715904, 0.01146104, 0.00975337, ..., 0.03865227, 0.03871794,\n",
       "        0.03549967],\n",
       "       [0.01146104, 0.00975337, 0.01330006, ..., 0.03871794, 0.03549967,\n",
       "        0.03451447],\n",
       "       ...,\n",
       "       [0.98318612, 0.97372828, 0.97031294, ..., 0.96243143, 0.96256283,\n",
       "        0.9647959 ],\n",
       "       [0.97372828, 0.97031294, 0.94351577, ..., 0.96256283, 0.9647959 ,\n",
       "        0.97294016],\n",
       "       [0.97031294, 0.94351577, 0.89465046, ..., 0.9647959 , 0.97294016,\n",
       "        0.97569869]])"
      ]
     },
     "execution_count": 87,
     "metadata": {},
     "output_type": "execute_result"
    }
   ],
   "source": [
    "#The X and Y arrays are converted into NumPy arrays\n",
    "X_train, Y_train = np.array(X_train), np.array(Y_train)\n",
    "#Displaying the X_train values\n",
    "X_train"
   ]
  },
  {
   "cell_type": "markdown",
   "metadata": {},
   "source": [
    "#### Reshaping the Matrix\n",
    "\n",
    "NumPy matrices are 3D and basically it is necessary to indicate that our matrix consists of 90 (default) days (X) times complete days in information set (Y) times 1 value per matrix cell (scalar) (Z)"
   ]
  },
  {
   "cell_type": "code",
   "execution_count": 88,
   "metadata": {},
   "outputs": [],
   "source": [
    "#The information is reshaped and a depth dimension added, making the 3D matrix. A depth=1 is added.\n",
    "X_train = np.reshape(X_train, (X_train.shape[0], X_train.shape[1], 1))"
   ]
  },
  {
   "cell_type": "markdown",
   "metadata": {},
   "source": [
    "## Building the RNN\n"
   ]
  },
  {
   "cell_type": "code",
   "execution_count": 89,
   "metadata": {},
   "outputs": [],
   "source": [
    "#Importing the Keras libraries and packages\n",
    "from keras.models import Sequential\n",
    "from keras.layers import Dense\n",
    "from keras.layers import LSTM\n",
    "from keras.layers import Dropout"
   ]
  },
  {
   "cell_type": "code",
   "execution_count": 90,
   "metadata": {},
   "outputs": [],
   "source": [
    "#Initialising the RNN as a sequence of multiple layers\n",
    "regressor = Sequential()"
   ]
  },
  {
   "cell_type": "code",
   "execution_count": 91,
   "metadata": {},
   "outputs": [],
   "source": [
    "#Adding the input layer and the LSTM layer\n",
    "regressor.add(LSTM(units = 75, return_sequences = True, input_shape =  (X_train.shape[1], 1)))\n"
   ]
  },
  {
   "cell_type": "code",
   "execution_count": 92,
   "metadata": {},
   "outputs": [],
   "source": [
    "#the argument is the dropout rate to ignore in the layers (20%)\n",
    "regressor.add(Dropout(0.2))"
   ]
  },
  {
   "cell_type": "markdown",
   "metadata": {},
   "source": [
    "#### Layers  \n",
    "We can add more LSTM layers but along with Dropout regularization to make sure we avoid overfitting! The last layer does not return a sequence because it's connected to the output layer"
   ]
  },
  {
   "cell_type": "code",
   "execution_count": 93,
   "metadata": {},
   "outputs": [],
   "source": [
    "#Adding a second LSTM layer and Dropout regularisation\n",
    "regressor.add(LSTM(units = 75, return_sequences = True))\n",
    "regressor.add(Dropout(0.2))"
   ]
  },
  {
   "cell_type": "code",
   "execution_count": 94,
   "metadata": {},
   "outputs": [],
   "source": [
    "#Adding a third LSTM layer and Dropout regularisation\n",
    "regressor.add(LSTM(units = 75, return_sequences = True))\n",
    "regressor.add(Dropout(0.2))"
   ]
  },
  {
   "cell_type": "code",
   "execution_count": 95,
   "metadata": {},
   "outputs": [],
   "source": [
    "#Adding a fourth LSTM layer and Dropout regularisation\n",
    "regressor.add(LSTM(units = 75, return_sequences = True))\n",
    "regressor.add(Dropout(0.2))"
   ]
  },
  {
   "cell_type": "code",
   "execution_count": 96,
   "metadata": {},
   "outputs": [],
   "source": [
    "#Adding the final LSTM layer and some Dropout regularisation\n",
    "#we removed the return_sequences because we no longer return a \n",
    "#sequence but a value instead\n",
    "regressor.add(LSTM(units = 75))\n",
    "regressor.add(Dropout(0.2))"
   ]
  },
  {
   "cell_type": "markdown",
   "metadata": {},
   "source": [
    "#### Adding an output layer and compiling\n",
    "\n",
    "The output has 1 dimension , i.e. one value to be predicted thus or output fully connected layer has dimensionality = 1.\n",
    "\n",
    "Optimizer: rmsprop is recommended in the Keras documentation. The Adam optimizer is also a powerful choice.\n",
    "Loss function: regression problems take the mean square error as most common"
   ]
  },
  {
   "cell_type": "code",
   "execution_count": 97,
   "metadata": {},
   "outputs": [],
   "source": [
    "#Adding the output layer (units is set to 1, because the output is a single value - out stock price)\n",
    "regressor.add(Dense(units = 1))"
   ]
  },
  {
   "cell_type": "code",
   "execution_count": 98,
   "metadata": {},
   "outputs": [],
   "source": [
    "#Compiling the RNN\n",
    "regressor.compile(optimizer = 'adam', loss = 'mean_squared_error')"
   ]
  },
  {
   "cell_type": "markdown",
   "metadata": {},
   "source": [
    "## Training and deployment\n",
    "\n",
    "Fitting the RNN to the training dataset\n",
    "Using the given dataset X we will train the RNN and compare the predictions with Y"
   ]
  },
  {
   "cell_type": "code",
   "execution_count": 99,
   "metadata": {},
   "outputs": [
    {
     "name": "stdout",
     "output_type": "stream",
     "text": [
      "Epoch 1/100\n",
      "2427/2427 [==============================] - 108s 45ms/step - loss: 0.0205\n",
      "Epoch 2/100\n",
      "2427/2427 [==============================] - 92s 38ms/step - loss: 0.0026\n",
      "Epoch 3/100\n",
      "2427/2427 [==============================] - 92s 38ms/step - loss: 0.0025\n",
      "Epoch 4/100\n",
      "2427/2427 [==============================] - 92s 38ms/step - loss: 0.0024\n",
      "Epoch 5/100\n",
      "2427/2427 [==============================] - 116s 48ms/step - loss: 0.0021\n",
      "Epoch 6/100\n",
      "2427/2427 [==============================] - 105s 43ms/step - loss: 0.0021\n",
      "Epoch 7/100\n",
      "2427/2427 [==============================] - 102s 42ms/step - loss: 0.0020\n",
      "Epoch 8/100\n",
      "2427/2427 [==============================] - 100s 41ms/step - loss: 0.0020\n",
      "Epoch 9/100\n",
      "2427/2427 [==============================] - 103s 42ms/step - loss: 0.0020\n",
      "Epoch 10/100\n",
      "2427/2427 [==============================] - 103s 43ms/step - loss: 0.0021\n",
      "Epoch 11/100\n",
      "2427/2427 [==============================] - 102s 42ms/step - loss: 0.0021\n",
      "Epoch 12/100\n",
      "2427/2427 [==============================] - 102s 42ms/step - loss: 0.0018\n",
      "Epoch 13/100\n",
      "2427/2427 [==============================] - 103s 42ms/step - loss: 0.0017\n",
      "Epoch 14/100\n",
      "2427/2427 [==============================] - 102s 42ms/step - loss: 0.0017\n",
      "Epoch 15/100\n",
      "2427/2427 [==============================] - 102s 42ms/step - loss: 0.0018\n",
      "Epoch 16/100\n",
      "2427/2427 [==============================] - 102s 42ms/step - loss: 0.0018\n",
      "Epoch 17/100\n",
      "2427/2427 [==============================] - 103s 42ms/step - loss: 0.0015\n",
      "Epoch 18/100\n",
      "2427/2427 [==============================] - 105s 43ms/step - loss: 0.0015\n",
      "Epoch 19/100\n",
      "2427/2427 [==============================] - 107s 44ms/step - loss: 0.0015\n",
      "Epoch 20/100\n",
      "2427/2427 [==============================] - 107s 44ms/step - loss: 0.0015\n",
      "Epoch 21/100\n",
      "2427/2427 [==============================] - 109s 45ms/step - loss: 0.0015\n",
      "Epoch 22/100\n",
      "2427/2427 [==============================] - 103s 42ms/step - loss: 0.0018\n",
      "Epoch 23/100\n",
      "2427/2427 [==============================] - 99s 41ms/step - loss: 0.0016\n",
      "Epoch 24/100\n",
      "2427/2427 [==============================] - 95s 39ms/step - loss: 0.0014\n",
      "Epoch 25/100\n",
      "2427/2427 [==============================] - 105s 43ms/step - loss: 0.0013\n",
      "Epoch 26/100\n",
      "2427/2427 [==============================] - 98s 40ms/step - loss: 0.0013\n",
      "Epoch 27/100\n",
      "2427/2427 [==============================] - 103s 43ms/step - loss: 0.0013\n",
      "Epoch 28/100\n",
      "2427/2427 [==============================] - 94s 39ms/step - loss: 0.0013\n",
      "Epoch 29/100\n",
      "2427/2427 [==============================] - 94s 39ms/step - loss: 0.0013\n",
      "Epoch 30/100\n",
      "2427/2427 [==============================] - 94s 39ms/step - loss: 0.0013\n",
      "Epoch 31/100\n",
      "2427/2427 [==============================] - 95s 39ms/step - loss: 0.0011\n",
      "Epoch 32/100\n",
      "2427/2427 [==============================] - 95s 39ms/step - loss: 0.0012\n",
      "Epoch 33/100\n",
      "2427/2427 [==============================] - 98s 40ms/step - loss: 0.0012\n",
      "Epoch 34/100\n",
      "2427/2427 [==============================] - 98s 40ms/step - loss: 0.0015\n",
      "Epoch 35/100\n",
      "2427/2427 [==============================] - 96s 39ms/step - loss: 0.0012\n",
      "Epoch 36/100\n",
      "2427/2427 [==============================] - 96s 39ms/step - loss: 0.0011\n",
      "Epoch 37/100\n",
      "2427/2427 [==============================] - 94s 39ms/step - loss: 0.0011\n",
      "Epoch 38/100\n",
      "2427/2427 [==============================] - 98s 41ms/step - loss: 0.0011\n",
      "Epoch 39/100\n",
      "2427/2427 [==============================] - 95s 39ms/step - loss: 9.5750e-04\n",
      "Epoch 40/100\n",
      "2427/2427 [==============================] - 95s 39ms/step - loss: 0.0010\n",
      "Epoch 41/100\n",
      "2427/2427 [==============================] - 94s 39ms/step - loss: 0.0011\n",
      "Epoch 42/100\n",
      "2427/2427 [==============================] - 94s 39ms/step - loss: 0.0010\n",
      "Epoch 43/100\n",
      "2427/2427 [==============================] - 94s 39ms/step - loss: 0.0010\n",
      "Epoch 44/100\n",
      "2427/2427 [==============================] - 95s 39ms/step - loss: 0.0012\n",
      "Epoch 45/100\n",
      "2427/2427 [==============================] - 95s 39ms/step - loss: 0.0010\n",
      "Epoch 46/100\n",
      "2427/2427 [==============================] - 94s 39ms/step - loss: 9.1755e-04\n",
      "Epoch 47/100\n",
      "2427/2427 [==============================] - 95s 39ms/step - loss: 9.9138e-04\n",
      "Epoch 48/100\n",
      "2427/2427 [==============================] - 94s 39ms/step - loss: 9.9672e-04\n",
      "Epoch 49/100\n",
      "2427/2427 [==============================] - 94s 39ms/step - loss: 0.0011\n",
      "Epoch 50/100\n",
      "2427/2427 [==============================] - 94s 39ms/step - loss: 8.6786e-04\n",
      "Epoch 51/100\n",
      "2427/2427 [==============================] - 94s 39ms/step - loss: 0.0010\n",
      "Epoch 52/100\n",
      "2427/2427 [==============================] - 94s 39ms/step - loss: 0.0010\n",
      "Epoch 53/100\n",
      "2427/2427 [==============================] - 94s 39ms/step - loss: 8.6828e-04\n",
      "Epoch 54/100\n",
      "2427/2427 [==============================] - 94s 39ms/step - loss: 9.3913e-04\n",
      "Epoch 55/100\n",
      "2427/2427 [==============================] - 94s 39ms/step - loss: 8.7083e-04\n",
      "Epoch 56/100\n",
      "2427/2427 [==============================] - 95s 39ms/step - loss: 9.6590e-04\n",
      "Epoch 57/100\n",
      "2427/2427 [==============================] - 94s 39ms/step - loss: 8.5773e-04\n",
      "Epoch 58/100\n",
      "2427/2427 [==============================] - 94s 39ms/step - loss: 8.6979e-04\n",
      "Epoch 59/100\n",
      "2427/2427 [==============================] - 94s 39ms/step - loss: 8.0039e-04\n",
      "Epoch 60/100\n",
      "2427/2427 [==============================] - 94s 39ms/step - loss: 8.2256e-04\n",
      "Epoch 61/100\n",
      "2427/2427 [==============================] - 94s 39ms/step - loss: 9.4075e-04\n",
      "Epoch 62/100\n",
      "2427/2427 [==============================] - 94s 39ms/step - loss: 9.1901e-04\n",
      "Epoch 63/100\n",
      "2427/2427 [==============================] - 94s 39ms/step - loss: 8.1322e-04\n",
      "Epoch 64/100\n",
      "2427/2427 [==============================] - 94s 39ms/step - loss: 7.9927e-04\n",
      "Epoch 65/100\n",
      "2427/2427 [==============================] - 94s 39ms/step - loss: 7.9082e-04\n",
      "Epoch 66/100\n",
      "2427/2427 [==============================] - 93s 38ms/step - loss: 8.1698e-04\n",
      "Epoch 67/100\n",
      "2427/2427 [==============================] - 93s 38ms/step - loss: 7.8084e-04\n",
      "Epoch 68/100\n",
      "2427/2427 [==============================] - 93s 38ms/step - loss: 7.4542e-04\n",
      "Epoch 69/100\n",
      "2427/2427 [==============================] - 93s 38ms/step - loss: 0.0010\n",
      "Epoch 70/100\n",
      "2427/2427 [==============================] - 93s 38ms/step - loss: 7.6840e-04\n",
      "Epoch 71/100\n",
      "2427/2427 [==============================] - 94s 39ms/step - loss: 8.0388e-04\n",
      "Epoch 72/100\n",
      "2427/2427 [==============================] - 93s 38ms/step - loss: 7.7541e-04\n",
      "Epoch 73/100\n",
      "2427/2427 [==============================] - 93s 38ms/step - loss: 8.0766e-04\n",
      "Epoch 74/100\n",
      "2427/2427 [==============================] - 93s 38ms/step - loss: 7.5505e-04\n",
      "Epoch 75/100\n",
      "2427/2427 [==============================] - 104s 43ms/step - loss: 8.7108e-04\n",
      "Epoch 76/100\n",
      "2427/2427 [==============================] - 116s 48ms/step - loss: 8.3957e-04\n",
      "Epoch 77/100\n",
      "2427/2427 [==============================] - 111s 46ms/step - loss: 8.4715e-04\n",
      "Epoch 78/100\n",
      "2427/2427 [==============================] - 111s 46ms/step - loss: 6.7001e-04\n",
      "Epoch 79/100\n",
      "2427/2427 [==============================] - 108s 45ms/step - loss: 7.3674e-04\n",
      "Epoch 80/100\n",
      "2427/2427 [==============================] - 111s 46ms/step - loss: 7.7633e-04\n",
      "Epoch 81/100\n",
      "2427/2427 [==============================] - 112s 46ms/step - loss: 7.3096e-04\n",
      "Epoch 82/100\n",
      "2427/2427 [==============================] - 111s 46ms/step - loss: 7.8540e-04\n",
      "Epoch 83/100\n",
      "2427/2427 [==============================] - 106s 44ms/step - loss: 8.3477e-04\n",
      "Epoch 84/100\n",
      "2427/2427 [==============================] - 110s 45ms/step - loss: 7.1560e-04\n",
      "Epoch 85/100\n",
      "2427/2427 [==============================] - 108s 45ms/step - loss: 7.1174e-04\n",
      "Epoch 86/100\n",
      "2427/2427 [==============================] - 117s 48ms/step - loss: 8.6450e-04\n",
      "Epoch 87/100\n",
      "2427/2427 [==============================] - 121s 50ms/step - loss: 7.5610e-04\n",
      "Epoch 88/100\n",
      "2427/2427 [==============================] - 122s 50ms/step - loss: 6.3062e-04\n",
      "Epoch 89/100\n",
      "2427/2427 [==============================] - 120s 50ms/step - loss: 6.8457e-04\n",
      "Epoch 90/100\n",
      "2427/2427 [==============================] - 122s 50ms/step - loss: 7.6971e-04\n",
      "Epoch 91/100\n",
      "2427/2427 [==============================] - 118s 49ms/step - loss: 6.8048e-04\n",
      "Epoch 92/100\n",
      "2427/2427 [==============================] - 121s 50ms/step - loss: 8.9836e-04\n",
      "Epoch 93/100\n",
      "2427/2427 [==============================] - 121s 50ms/step - loss: 7.7272e-04\n",
      "Epoch 94/100\n",
      "2427/2427 [==============================] - 121s 50ms/step - loss: 8.2941e-04\n",
      "Epoch 95/100\n",
      "2427/2427 [==============================] - 120s 49ms/step - loss: 7.1028e-04\n",
      "Epoch 96/100\n",
      "2427/2427 [==============================] - 117s 48ms/step - loss: 6.8287e-04\n",
      "Epoch 97/100\n",
      "2427/2427 [==============================] - 104s 43ms/step - loss: 7.7281e-04\n",
      "Epoch 98/100\n",
      "2427/2427 [==============================] - 102s 42ms/step - loss: 6.9114e-04\n",
      "Epoch 99/100\n",
      "2427/2427 [==============================] - 107s 44ms/step - loss: 7.2899e-04\n",
      "Epoch 100/100\n",
      "2427/2427 [==============================] - 111s 46ms/step - loss: 6.7971e-04\n"
     ]
    },
    {
     "data": {
      "text/plain": [
       "<keras.callbacks.History at 0x7f205da6bd68>"
      ]
     },
     "execution_count": 99,
     "metadata": {},
     "output_type": "execute_result"
    }
   ],
   "source": [
    "#Fitting the RNN to the Training set\n",
    "regressor.fit(X_train, Y_train, epochs = int(eps), batch_size = int(bsize))"
   ]
  },
  {
   "cell_type": "code",
   "execution_count": 114,
   "metadata": {},
   "outputs": [
    {
     "data": {
      "text/html": [
       "<div>\n",
       "<style scoped>\n",
       "    .dataframe tbody tr th:only-of-type {\n",
       "        vertical-align: middle;\n",
       "    }\n",
       "\n",
       "    .dataframe tbody tr th {\n",
       "        vertical-align: top;\n",
       "    }\n",
       "\n",
       "    .dataframe thead th {\n",
       "        text-align: right;\n",
       "    }\n",
       "</style>\n",
       "<table border=\"1\" class=\"dataframe\">\n",
       "  <thead>\n",
       "    <tr style=\"text-align: right;\">\n",
       "      <th></th>\n",
       "      <th>Date</th>\n",
       "      <th>Open</th>\n",
       "      <th>High</th>\n",
       "      <th>Low</th>\n",
       "      <th>Close</th>\n",
       "      <th>Adj Close</th>\n",
       "      <th>Volume</th>\n",
       "    </tr>\n",
       "  </thead>\n",
       "  <tbody>\n",
       "    <tr>\n",
       "      <td>0</td>\n",
       "      <td>2019-07-31</td>\n",
       "      <td>87.089996</td>\n",
       "      <td>87.269997</td>\n",
       "      <td>85.550003</td>\n",
       "      <td>86.029999</td>\n",
       "      <td>85.808327</td>\n",
       "      <td>5818200</td>\n",
       "    </tr>\n",
       "    <tr>\n",
       "      <td>1</td>\n",
       "      <td>2019-08-01</td>\n",
       "      <td>85.260002</td>\n",
       "      <td>86.769997</td>\n",
       "      <td>82.699997</td>\n",
       "      <td>83.120003</td>\n",
       "      <td>82.905830</td>\n",
       "      <td>7871800</td>\n",
       "    </tr>\n",
       "    <tr>\n",
       "      <td>2</td>\n",
       "      <td>2019-08-02</td>\n",
       "      <td>82.529999</td>\n",
       "      <td>83.239998</td>\n",
       "      <td>80.790001</td>\n",
       "      <td>81.139999</td>\n",
       "      <td>80.930923</td>\n",
       "      <td>8761400</td>\n",
       "    </tr>\n",
       "    <tr>\n",
       "      <td>3</td>\n",
       "      <td>2019-08-05</td>\n",
       "      <td>79.660004</td>\n",
       "      <td>80.050003</td>\n",
       "      <td>78.190002</td>\n",
       "      <td>78.970001</td>\n",
       "      <td>78.766518</td>\n",
       "      <td>8493300</td>\n",
       "    </tr>\n",
       "    <tr>\n",
       "      <td>4</td>\n",
       "      <td>2019-08-06</td>\n",
       "      <td>79.849998</td>\n",
       "      <td>81.589996</td>\n",
       "      <td>79.489998</td>\n",
       "      <td>81.300003</td>\n",
       "      <td>81.090515</td>\n",
       "      <td>8664500</td>\n",
       "    </tr>\n",
       "    <tr>\n",
       "      <td>5</td>\n",
       "      <td>2019-08-07</td>\n",
       "      <td>80.500000</td>\n",
       "      <td>81.820000</td>\n",
       "      <td>80.089996</td>\n",
       "      <td>81.279999</td>\n",
       "      <td>81.070564</td>\n",
       "      <td>6275000</td>\n",
       "    </tr>\n",
       "    <tr>\n",
       "      <td>6</td>\n",
       "      <td>2019-08-08</td>\n",
       "      <td>81.809998</td>\n",
       "      <td>83.360001</td>\n",
       "      <td>81.610001</td>\n",
       "      <td>83.000000</td>\n",
       "      <td>82.786133</td>\n",
       "      <td>6208900</td>\n",
       "    </tr>\n",
       "    <tr>\n",
       "      <td>7</td>\n",
       "      <td>2019-08-09</td>\n",
       "      <td>83.139999</td>\n",
       "      <td>83.430000</td>\n",
       "      <td>81.320000</td>\n",
       "      <td>81.980003</td>\n",
       "      <td>81.768768</td>\n",
       "      <td>5460200</td>\n",
       "    </tr>\n",
       "    <tr>\n",
       "      <td>8</td>\n",
       "      <td>2019-08-12</td>\n",
       "      <td>81.410004</td>\n",
       "      <td>81.949997</td>\n",
       "      <td>81.180000</td>\n",
       "      <td>81.650002</td>\n",
       "      <td>81.439613</td>\n",
       "      <td>3595500</td>\n",
       "    </tr>\n",
       "    <tr>\n",
       "      <td>9</td>\n",
       "      <td>2019-08-13</td>\n",
       "      <td>81.169998</td>\n",
       "      <td>84.150002</td>\n",
       "      <td>80.849998</td>\n",
       "      <td>83.320000</td>\n",
       "      <td>83.105309</td>\n",
       "      <td>6896800</td>\n",
       "    </tr>\n",
       "    <tr>\n",
       "      <td>10</td>\n",
       "      <td>2019-08-14</td>\n",
       "      <td>81.239998</td>\n",
       "      <td>81.690002</td>\n",
       "      <td>80.510002</td>\n",
       "      <td>81.029999</td>\n",
       "      <td>80.821205</td>\n",
       "      <td>7266100</td>\n",
       "    </tr>\n",
       "    <tr>\n",
       "      <td>11</td>\n",
       "      <td>2019-08-15</td>\n",
       "      <td>80.930000</td>\n",
       "      <td>81.300003</td>\n",
       "      <td>79.440002</td>\n",
       "      <td>79.510002</td>\n",
       "      <td>79.305130</td>\n",
       "      <td>6713600</td>\n",
       "    </tr>\n",
       "    <tr>\n",
       "      <td>12</td>\n",
       "      <td>2019-08-16</td>\n",
       "      <td>80.089996</td>\n",
       "      <td>80.559998</td>\n",
       "      <td>79.250000</td>\n",
       "      <td>80.279999</td>\n",
       "      <td>80.073143</td>\n",
       "      <td>5649000</td>\n",
       "    </tr>\n",
       "    <tr>\n",
       "      <td>13</td>\n",
       "      <td>2019-08-19</td>\n",
       "      <td>82.000000</td>\n",
       "      <td>82.339996</td>\n",
       "      <td>80.830002</td>\n",
       "      <td>81.129997</td>\n",
       "      <td>80.920952</td>\n",
       "      <td>7027900</td>\n",
       "    </tr>\n",
       "    <tr>\n",
       "      <td>14</td>\n",
       "      <td>2019-08-20</td>\n",
       "      <td>80.720001</td>\n",
       "      <td>81.230003</td>\n",
       "      <td>79.449997</td>\n",
       "      <td>80.529999</td>\n",
       "      <td>80.322495</td>\n",
       "      <td>5903100</td>\n",
       "    </tr>\n",
       "    <tr>\n",
       "      <td>15</td>\n",
       "      <td>2019-08-21</td>\n",
       "      <td>81.940002</td>\n",
       "      <td>82.839996</td>\n",
       "      <td>81.629997</td>\n",
       "      <td>82.739998</td>\n",
       "      <td>82.526802</td>\n",
       "      <td>6454200</td>\n",
       "    </tr>\n",
       "    <tr>\n",
       "      <td>16</td>\n",
       "      <td>2019-08-22</td>\n",
       "      <td>83.000000</td>\n",
       "      <td>83.720001</td>\n",
       "      <td>82.500000</td>\n",
       "      <td>83.309998</td>\n",
       "      <td>83.095329</td>\n",
       "      <td>5571600</td>\n",
       "    </tr>\n",
       "    <tr>\n",
       "      <td>17</td>\n",
       "      <td>2019-08-23</td>\n",
       "      <td>82.019997</td>\n",
       "      <td>82.760002</td>\n",
       "      <td>80.029999</td>\n",
       "      <td>80.440002</td>\n",
       "      <td>80.232735</td>\n",
       "      <td>8497800</td>\n",
       "    </tr>\n",
       "    <tr>\n",
       "      <td>18</td>\n",
       "      <td>2019-08-26</td>\n",
       "      <td>81.440002</td>\n",
       "      <td>82.279999</td>\n",
       "      <td>80.739998</td>\n",
       "      <td>82.250000</td>\n",
       "      <td>82.038063</td>\n",
       "      <td>4336000</td>\n",
       "    </tr>\n",
       "    <tr>\n",
       "      <td>19</td>\n",
       "      <td>2019-08-27</td>\n",
       "      <td>82.629997</td>\n",
       "      <td>83.180000</td>\n",
       "      <td>82.000000</td>\n",
       "      <td>82.029999</td>\n",
       "      <td>81.818634</td>\n",
       "      <td>3842500</td>\n",
       "    </tr>\n",
       "    <tr>\n",
       "      <td>20</td>\n",
       "      <td>2019-08-28</td>\n",
       "      <td>81.900002</td>\n",
       "      <td>83.589996</td>\n",
       "      <td>81.720001</td>\n",
       "      <td>83.480003</td>\n",
       "      <td>83.264900</td>\n",
       "      <td>4123700</td>\n",
       "    </tr>\n",
       "    <tr>\n",
       "      <td>21</td>\n",
       "      <td>2019-08-29</td>\n",
       "      <td>84.220001</td>\n",
       "      <td>85.769997</td>\n",
       "      <td>84.169998</td>\n",
       "      <td>85.379997</td>\n",
       "      <td>85.159996</td>\n",
       "      <td>5101900</td>\n",
       "    </tr>\n",
       "    <tr>\n",
       "      <td>22</td>\n",
       "      <td>2019-08-30</td>\n",
       "      <td>85.699997</td>\n",
       "      <td>85.989998</td>\n",
       "      <td>84.410004</td>\n",
       "      <td>84.500000</td>\n",
       "      <td>84.500000</td>\n",
       "      <td>5235400</td>\n",
       "    </tr>\n",
       "  </tbody>\n",
       "</table>\n",
       "</div>"
      ],
      "text/plain": [
       "          Date       Open       High        Low      Close  Adj Close   Volume\n",
       "0   2019-07-31  87.089996  87.269997  85.550003  86.029999  85.808327  5818200\n",
       "1   2019-08-01  85.260002  86.769997  82.699997  83.120003  82.905830  7871800\n",
       "2   2019-08-02  82.529999  83.239998  80.790001  81.139999  80.930923  8761400\n",
       "3   2019-08-05  79.660004  80.050003  78.190002  78.970001  78.766518  8493300\n",
       "4   2019-08-06  79.849998  81.589996  79.489998  81.300003  81.090515  8664500\n",
       "5   2019-08-07  80.500000  81.820000  80.089996  81.279999  81.070564  6275000\n",
       "6   2019-08-08  81.809998  83.360001  81.610001  83.000000  82.786133  6208900\n",
       "7   2019-08-09  83.139999  83.430000  81.320000  81.980003  81.768768  5460200\n",
       "8   2019-08-12  81.410004  81.949997  81.180000  81.650002  81.439613  3595500\n",
       "9   2019-08-13  81.169998  84.150002  80.849998  83.320000  83.105309  6896800\n",
       "10  2019-08-14  81.239998  81.690002  80.510002  81.029999  80.821205  7266100\n",
       "11  2019-08-15  80.930000  81.300003  79.440002  79.510002  79.305130  6713600\n",
       "12  2019-08-16  80.089996  80.559998  79.250000  80.279999  80.073143  5649000\n",
       "13  2019-08-19  82.000000  82.339996  80.830002  81.129997  80.920952  7027900\n",
       "14  2019-08-20  80.720001  81.230003  79.449997  80.529999  80.322495  5903100\n",
       "15  2019-08-21  81.940002  82.839996  81.629997  82.739998  82.526802  6454200\n",
       "16  2019-08-22  83.000000  83.720001  82.500000  83.309998  83.095329  5571600\n",
       "17  2019-08-23  82.019997  82.760002  80.029999  80.440002  80.232735  8497800\n",
       "18  2019-08-26  81.440002  82.279999  80.739998  82.250000  82.038063  4336000\n",
       "19  2019-08-27  82.629997  83.180000  82.000000  82.029999  81.818634  3842500\n",
       "20  2019-08-28  81.900002  83.589996  81.720001  83.480003  83.264900  4123700\n",
       "21  2019-08-29  84.220001  85.769997  84.169998  85.379997  85.159996  5101900\n",
       "22  2019-08-30  85.699997  85.989998  84.410004  84.500000  84.500000  5235400"
      ]
     },
     "execution_count": 114,
     "metadata": {},
     "output_type": "execute_result"
    }
   ],
   "source": [
    "#Importing the file we will use for testing the RNN\n",
    "dataset_test = pd.read_csv('NKE_test_set.csv')\n",
    "#displaying the test dataset\n",
    "dataset_test"
   ]
  },
  {
   "cell_type": "code",
   "execution_count": 115,
   "metadata": {},
   "outputs": [
    {
     "data": {
      "text/plain": [
       "23"
      ]
     },
     "execution_count": 115,
     "metadata": {},
     "output_type": "execute_result"
    }
   ],
   "source": [
    "real_stock_price = dataset_test.iloc[:, 1:2].values\n",
    "#displaying the real stock price size\n",
    "real_stock_price.size"
   ]
  },
  {
   "cell_type": "code",
   "execution_count": 116,
   "metadata": {},
   "outputs": [
    {
     "data": {
      "text/plain": [
       "2540"
      ]
     },
     "execution_count": 116,
     "metadata": {},
     "output_type": "execute_result"
    }
   ],
   "source": [
    "#axis = 0 means concatenate the lines (i.e. vertical axis)\n",
    "#both dataset files are joined back into one\n",
    "dataset_total = pd.concat((dataset_train['Open'], dataset_test['Open']), axis = 0) \n",
    "#displaying the total dataset size\n",
    "dataset_total.size"
   ]
  },
  {
   "cell_type": "code",
   "execution_count": 117,
   "metadata": {},
   "outputs": [
    {
     "data": {
      "text/plain": [
       "161"
      ]
     },
     "execution_count": 117,
     "metadata": {},
     "output_type": "execute_result"
    }
   ],
   "source": [
    "#displaying the test dataset size\n",
    "dataset_test.size"
   ]
  },
  {
   "cell_type": "code",
   "execution_count": 118,
   "metadata": {},
   "outputs": [],
   "source": [
    "#the difference in the length of the first two gives us \n",
    "#the first day in 2017, and we need to go back 60 days to get the necessary range\n",
    "inputs = dataset_total[len(dataset_total) - len(dataset_test) - hs:].values"
   ]
  },
  {
   "cell_type": "code",
   "execution_count": 119,
   "metadata": {},
   "outputs": [
    {
     "data": {
      "text/plain": [
       "113"
      ]
     },
     "execution_count": 119,
     "metadata": {},
     "output_type": "execute_result"
    }
   ],
   "source": [
    "inputs.size"
   ]
  },
  {
   "cell_type": "code",
   "execution_count": 120,
   "metadata": {},
   "outputs": [
    {
     "data": {
      "text/plain": [
       "array([[0.94351577],\n",
       "       [0.89465046],\n",
       "       [0.92289248],\n",
       "       [0.92368069],\n",
       "       [0.92683327],\n",
       "       [0.93563427],\n",
       "       [0.94141409],\n",
       "       [0.94088864],\n",
       "       [0.93957508],\n",
       "       [0.93418933],\n",
       "       [0.9540245 ],\n",
       "       [0.94102003],\n",
       "       [0.93064268],\n",
       "       [0.93615972],\n",
       "       [0.93957508],\n",
       "       [0.94482944],\n",
       "       [0.9657154 ],\n",
       "       [0.96716036],\n",
       "       [0.97963938],\n",
       "       [0.99027949],\n",
       "       [0.98489374],\n",
       "       [0.97464779],\n",
       "       [0.97596135],\n",
       "       [0.98555058],\n",
       "       [0.97963938],\n",
       "       [0.98266067],\n",
       "       [0.98410563],\n",
       "       [0.97674957],\n",
       "       [0.95678302],\n",
       "       [0.95271094],\n",
       "       [0.9247315 ],\n",
       "       [0.9148796 ],\n",
       "       [0.90712949],\n",
       "       [0.90423958],\n",
       "       [0.91172702],\n",
       "       [0.89688354],\n",
       "       [0.91172702],\n",
       "       [0.91685   ],\n",
       "       [0.9344521 ],\n",
       "       [0.92131624],\n",
       "       [0.92512565],\n",
       "       [0.91934585],\n",
       "       [0.91448554],\n",
       "       [0.908049  ],\n",
       "       [0.9041082 ],\n",
       "       [0.91264652],\n",
       "       [0.8845358 ],\n",
       "       [0.8610226 ],\n",
       "       [0.84893764],\n",
       "       [0.83895436],\n",
       "       [0.86601429],\n",
       "       [0.90529048],\n",
       "       [0.9109389 ],\n",
       "       [0.9157991 ],\n",
       "       [0.92446882],\n",
       "       [0.92315526],\n",
       "       [0.92092218],\n",
       "       [0.91658733],\n",
       "       [0.92131624],\n",
       "       [0.91908306],\n",
       "       [0.91067613],\n",
       "       [0.92420614],\n",
       "       [0.93957508],\n",
       "       [0.94299043],\n",
       "       [0.9540245 ],\n",
       "       [0.93563427],\n",
       "       [0.91658733],\n",
       "       [0.91369742],\n",
       "       [0.9276214 ],\n",
       "       [0.93996913],\n",
       "       [0.94561756],\n",
       "       [0.9452235 ],\n",
       "       [0.95139737],\n",
       "       [0.95481262],\n",
       "       [0.98160977],\n",
       "       [0.98660146],\n",
       "       [0.9764868 ],\n",
       "       [0.98266067],\n",
       "       [0.9942202 ],\n",
       "       [1.        ],\n",
       "       [0.98581325],\n",
       "       [0.97543591],\n",
       "       [0.97674957],\n",
       "       [0.96138055],\n",
       "       [0.96243143],\n",
       "       [0.96256283],\n",
       "       [0.9647959 ],\n",
       "       [0.97294016],\n",
       "       [0.97569869],\n",
       "       [0.9647959 ],\n",
       "       [0.96834253],\n",
       "       [0.94430399],\n",
       "       [0.90844306],\n",
       "       [0.87074321],\n",
       "       [0.87323895],\n",
       "       [0.88177728],\n",
       "       [0.89898523],\n",
       "       [0.91645593],\n",
       "       [0.89373096],\n",
       "       [0.89057828],\n",
       "       [0.89149779],\n",
       "       [0.8874257 ],\n",
       "       [0.87639153],\n",
       "       [0.90148107],\n",
       "       [0.88466718],\n",
       "       [0.90069294],\n",
       "       [0.91461693],\n",
       "       [0.90174375],\n",
       "       [0.89412501],\n",
       "       [0.90975662],\n",
       "       [0.90016751],\n",
       "       [0.93064268],\n",
       "       [0.9500837 ]])"
      ]
     },
     "execution_count": 120,
     "metadata": {},
     "output_type": "execute_result"
    }
   ],
   "source": [
    "#we did not use iloc from panda so lets reshape the numpy array for \n",
    "#compatibility: i.e. all the values from input lines to be stacked in one \n",
    "#column. The -1 means that the numpy has no knowledge of how the \n",
    "#values were stored in lines. The 1 means we want to them in one column.\n",
    "\n",
    "inputs = inputs.reshape(-1,1) \n",
    "\n",
    "#applying the feature scaler\n",
    "inputs = sc.transform(inputs)\n",
    "inputs"
   ]
  },
  {
   "cell_type": "code",
   "execution_count": 121,
   "metadata": {},
   "outputs": [],
   "source": [
    "#Getting the prediction for the stock prices\n",
    "X_test = []"
   ]
  },
  {
   "cell_type": "code",
   "execution_count": 122,
   "metadata": {},
   "outputs": [],
   "source": [
    "# the first 'hs' from inputs are from training set; start \n",
    "# from 'hs' and get the extra 20, i.e. up to 110\n",
    "for i in range(hs, 113): \n",
    "    X_test.append(inputs[i-hs:i, 0])"
   ]
  },
  {
   "cell_type": "code",
   "execution_count": 123,
   "metadata": {},
   "outputs": [],
   "source": [
    "X_test = np.array(X_test) # not 3D structure yet"
   ]
  },
  {
   "cell_type": "code",
   "execution_count": 124,
   "metadata": {},
   "outputs": [],
   "source": [
    "# creating a 3D structure\n",
    "X_test = np.reshape(X_test, (X_test.shape[0], X_test.shape[1], 1))"
   ]
  },
  {
   "cell_type": "code",
   "execution_count": 125,
   "metadata": {},
   "outputs": [],
   "source": [
    "predicted_stock_price = regressor.predict(X_test)"
   ]
  },
  {
   "cell_type": "code",
   "execution_count": 126,
   "metadata": {},
   "outputs": [
    {
     "data": {
      "text/plain": [
       "23"
      ]
     },
     "execution_count": 126,
     "metadata": {},
     "output_type": "execute_result"
    }
   ],
   "source": [
    "#The scaling must be reversed to obtain relevant stock price # outputs\n",
    "predicted_stock_price = sc.inverse_transform(predicted_stock_price) \n",
    "#displaying the predicted stock price size\n",
    "predicted_stock_price.size"
   ]
  },
  {
   "cell_type": "markdown",
   "metadata": {},
   "source": [
    "## Results"
   ]
  },
  {
   "cell_type": "code",
   "execution_count": 127,
   "metadata": {},
   "outputs": [
    {
     "data": {
      "image/png": "[encoded data removed]",
      "text/plain": [
       "<Figure size 432x288 with 1 Axes>"
      ]
     },
     "metadata": {
      "needs_background": "light"
     },
     "output_type": "display_data"
    }
   ],
   "source": [
    "#Visualising the results\n",
    "\n",
    "plt.plot(real_stock_price, color = 'red', label = 'Real Nike Stock Price')\n",
    "plt.plot(predicted_stock_price, color = 'blue', label = 'Predicted Nike Stock Price')\n",
    "plt.title('Nike Stock Price Prediction')\n",
    "plt.xlabel('Time')\n",
    "plt.ylabel('Nike Stock Price')\n",
    "plt.legend()\n",
    "plt.show()"
   ]
  },
  {
   "cell_type": "markdown",
   "metadata": {},
   "source": [
    "The prediction lags behind the actual price curve because the model cannot react to fast non-linear changes. Spikes are examples of fast non-linear changes, and there are a few steep ones.  \n",
    "Model reacts pretty well to smooth changes.\n",
    "To receive better results, we can always can add more hidden layers to the network and that would improve the predictions, but will get closer to overfitting."
   ]
  },
  {
   "cell_type": "code",
   "execution_count": null,
   "metadata": {},
   "outputs": [],
   "source": []
  }
 ],
 "metadata": {
  "kernelspec": {
   "display_name": "Python 3",
   "language": "python",
   "name": "python3"
  },
  "language_info": {
   "codemirror_mode": {
    "name": "ipython",
    "version": 3
   },
   "file_extension": ".py",
   "mimetype": "text/x-python",
   "name": "python",
   "nbconvert_exporter": "python",
   "pygments_lexer": "ipython3",
   "version": "3.7.3"
  }
 },
 "nbformat": 4,
 "nbformat_minor": 2
}
